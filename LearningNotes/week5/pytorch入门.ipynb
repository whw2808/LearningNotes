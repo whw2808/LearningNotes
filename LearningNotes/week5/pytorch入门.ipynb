{
 "cells": [
  {
   "cell_type": "markdown",
   "id": "434ce11a",
   "metadata": {},
   "source": [
    "# 张量"
   ]
  },
  {
   "cell_type": "code",
   "execution_count": 1,
   "id": "65f25269",
   "metadata": {},
   "outputs": [],
   "source": [
    "import torch\n",
    "import numpy as np"
   ]
  },
  {
   "cell_type": "code",
   "execution_count": 2,
   "id": "61c12470",
   "metadata": {},
   "outputs": [
    {
     "name": "stdout",
     "output_type": "stream",
     "text": [
      "data:[[5, 6], [7, 8]]\n",
      "x_data:tensor([[5, 6],\n",
      "        [7, 8]])\n"
     ]
    }
   ],
   "source": [
    "data = [[5,6],[7,8]]\n",
    "#直接生成张量\n",
    "x_data = torch.tensor(data)\n",
    "print(f\"data:{data}\")\n",
    "print(f\"x_data:{x_data}\")"
   ]
  },
  {
   "cell_type": "code",
   "execution_count": 3,
   "id": "e6a241e6",
   "metadata": {},
   "outputs": [],
   "source": [
    "#numpy 转 tensor\n",
    "np_array = np.array(data)\n",
    "x_np = torch.from_numpy(np_array)"
   ]
  },
  {
   "cell_type": "code",
   "execution_count": 9,
   "id": "7d688bb9",
   "metadata": {},
   "outputs": [
    {
     "name": "stdout",
     "output_type": "stream",
     "text": [
      "x_ones:tensor([[0, 0],\n",
      "        [0, 0]])\n",
      "Random Tensor: \n",
      " tensor([[0.2683, 0.1397],\n",
      "        [0.6471, 0.3798]]) \n",
      "\n"
     ]
    }
   ],
   "source": [
    "#通过已有的张量来生成新的张量\n",
    "x_ones = torch.ones_like(x_data)#初始值为1 结构按之前的张量\n",
    "print(f\"x_ones:{x_ones}\")\n",
    "x_rand = torch.rand_like(x_data, dtype=torch.float)\n",
    "print(f\"Random Tensor: \\n {x_rand} \\n\")"
   ]
  },
  {
   "cell_type": "code",
   "execution_count": 8,
   "id": "cb7b2575",
   "metadata": {},
   "outputs": [
    {
     "name": "stdout",
     "output_type": "stream",
     "text": [
      "Random Tensor: \n",
      " tensor([[0.3531, 0.7878, 0.4339],\n",
      "        [0.7576, 0.5413, 0.8788]]) \n",
      "\n",
      "Ones Tensor: \n",
      " tensor([[1., 1., 1.],\n",
      "        [1., 1., 1.]]) \n",
      "\n",
      "Zeros Tensor: \n",
      " tensor([[0., 0., 0.],\n",
      "        [0., 0., 0.]])\n"
     ]
    }
   ],
   "source": [
    "#4. 通过指定数据维度来生成张量\n",
    "shape = (2,3,)\n",
    "rand_tensor = torch.rand(shape)\n",
    "ones_tensor = torch.ones(shape)\n",
    "zeros_tensor = torch.zeros(shape)\n",
    "print(f\"Random Tensor: \\n {rand_tensor} \\n\")\n",
    "print(f\"Ones Tensor: \\n {ones_tensor} \\n\")\n",
    "print(f\"Zeros Tensor: \\n {zeros_tensor}\")"
   ]
  },
  {
   "cell_type": "code",
   "execution_count": 10,
   "id": "e7d6330c",
   "metadata": {},
   "outputs": [
    {
     "name": "stdout",
     "output_type": "stream",
     "text": [
      "Shape of tensor: torch.Size([4, 4])\n",
      "Datatype of tensor: torch.float32\n",
      "Device tensor is stored on: cpu\n"
     ]
    }
   ],
   "source": [
    "tensor = torch.rand(4,4)\n",
    "\n",
    "print(f\"Shape of tensor: {tensor.shape}\")\n",
    "print(f\"Datatype of tensor: {tensor.dtype}\")\n",
    "print(f\"Device tensor is stored on: {tensor.device}\")"
   ]
  },
  {
   "cell_type": "code",
   "execution_count": 11,
   "id": "e876d508",
   "metadata": {},
   "outputs": [
    {
     "name": "stdout",
     "output_type": "stream",
     "text": [
      "Device tensor is stored on: cuda:0\n"
     ]
    }
   ],
   "source": [
    "# 判断当前环境GPU是否可用, 然后将tensor导入GPU内运行\n",
    "if torch.cuda.is_available():\n",
    "  tensor = tensor.to('cuda')\n",
    "print(f\"Device tensor is stored on: {tensor.device}\")"
   ]
  },
  {
   "cell_type": "code",
   "execution_count": 30,
   "id": "94d0eac4",
   "metadata": {},
   "outputs": [
    {
     "name": "stdout",
     "output_type": "stream",
     "text": [
      "tensor([[1., 1., 1., 1.],\n",
      "        [1., 1., 0., 1.],\n",
      "        [1., 1., 1., 1.],\n",
      "        [1., 1., 1., 1.]])\n"
     ]
    }
   ],
   "source": [
    "#1. 张量的索引和切片\n",
    "tensor = torch.ones(4,4)\n",
    "#冒号:左开右闭\n",
    "tensor[1:2,2:3] = 0 \n",
    "#将第2列(从0开始)的数据全部赋值为0\n",
    "#tensor[:,2] = 0\n",
    "print(tensor)"
   ]
  },
  {
   "cell_type": "code",
   "execution_count": 19,
   "id": "68cc2871",
   "metadata": {},
   "outputs": [
    {
     "name": "stdout",
     "output_type": "stream",
     "text": [
      "tensor([[1., 1., 0., 1.],\n",
      "        [1., 1., 0., 1.],\n",
      "        [1., 1., 0., 1.],\n",
      "        [1., 1., 0., 1.],\n",
      "        [1., 1., 0., 1.],\n",
      "        [1., 1., 0., 1.],\n",
      "        [1., 1., 0., 1.],\n",
      "        [1., 1., 0., 1.],\n",
      "        [1., 1., 0., 1.],\n",
      "        [1., 1., 0., 1.],\n",
      "        [1., 1., 0., 1.],\n",
      "        [1., 1., 0., 1.]])\n"
     ]
    }
   ],
   "source": [
    "#dim = 0 按行拼接 dim=1 按列拼接\n",
    "t1 = torch.cat([tensor, tensor, tensor], dim=0)\n",
    "print(t1)"
   ]
  },
  {
   "cell_type": "code",
   "execution_count": 36,
   "id": "5cf77946",
   "metadata": {
    "scrolled": false
   },
   "outputs": [
    {
     "name": "stdout",
     "output_type": "stream",
     "text": [
      "tensor([[10, 11],\n",
      "        [12, 13]]) \n",
      "\n",
      "tensor([[10, 12],\n",
      "        [11, 13]])\n"
     ]
    }
   ],
   "source": [
    "#4. 自动赋值运算 x.copy_(y), x.t_()操作会改变 x 的取值\n",
    "print(tensor, \"\\n\")\n",
    "tensor.t_()#t_是转置  add_(x)加值\n",
    "print(tensor)"
   ]
  },
  {
   "cell_type": "markdown",
   "id": "a940ca92",
   "metadata": {},
   "source": [
    "**注意:\n",
    "自动赋值运算虽然可以节省内存, 但在求导时会因为丢失了中间过程而导致一些问题, 所以并不鼓励使用它。**"
   ]
  },
  {
   "cell_type": "code",
   "execution_count": 40,
   "id": "a207e2d4",
   "metadata": {},
   "outputs": [
    {
     "name": "stdout",
     "output_type": "stream",
     "text": [
      "t: tensor([1., 1., 1., 1., 1.])\n",
      "n: [1. 1. 1. 1. 1.]\n",
      "t: tensor([2., 2., 2., 2., 2.])\n",
      "n: [2. 2. 2. 2. 2.]\n",
      "t: tensor([2., 2., 2., 2., 2.], dtype=torch.float64)\n",
      "n: [2. 2. 2. 2. 2.]\n"
     ]
    }
   ],
   "source": [
    "#Tensor与Numpy的转化 .numpy()\n",
    "t = torch.ones(5)\n",
    "print(f\"t: {t}\")\n",
    "n = t.numpy()\n",
    "print(f\"n: {n}\")\n",
    "#修改张量的值，则Numpy array数组值也会随之改变。\n",
    "t.add_(1)\n",
    "print(f\"t: {t}\")\n",
    "print(f\"n: {n}\")\n",
    "#由Numpy array数组转为张量\n",
    "n = np.ones(5)\n",
    "t = torch.from_numpy(n)\n",
    "np.add(n, 1, out=n)#n 和 1求和 out = n指定结果存储的位置是n。若提供此参数，其必须与输入数组扩充后的维度保持一致。如果不提供此参数或者此参数为None，返回一个新建的数组。若此参数为元组，其长度和输出值的个数保持一致。\n",
    "print(f\"t: {t}\")\n",
    "print(f\"n: {n}\")"
   ]
  },
  {
   "cell_type": "markdown",
   "id": "2bcd3d2b",
   "metadata": {},
   "source": [
    "# torch.autograd\n",
    "创建一个随机数据张量来表示具有 3 个通道的单个图像，高度&宽度为 64，其对应的label初始化为一些随机值。\n",
    "## pytorch中的简要用法"
   ]
  },
  {
   "cell_type": "code",
   "execution_count": 43,
   "id": "e5ac0755",
   "metadata": {},
   "outputs": [],
   "source": [
    "import torch, torchvision\n",
    "model = torchvision.models.resnet18(pretrained=True)\n",
    "data = torch.rand(1, 3, 64, 64)\n",
    "labels = torch.rand(1, 1000)#resnet18是千分类因此labels是1000维向量"
   ]
  },
  {
   "cell_type": "markdown",
   "id": "726c0f91",
   "metadata": {},
   "source": [
    "接下来，我们通过模型的每一层运行输入数据以进行预测。 这是正向传播。"
   ]
  },
  {
   "cell_type": "code",
   "execution_count": 77,
   "id": "fcd56fff",
   "metadata": {},
   "outputs": [],
   "source": [
    "prediction = model(data) # 正向传播\n",
    "loss = (prediction - labels).sum()#\n",
    "#print(f\"loss: {loss}\")\n",
    "loss.backward() # 反向传播\n",
    "#加载一个优化器，在本例中为 SGD，学习率为 0.01，动量为 0.9。 我们在优化器中注册模型的所有参数。\n",
    "#SGD就是普通的梯度下降法更新参数\n",
    "optim = torch.optim.SGD(model.parameters(), lr=1e-2, momentum=0.9)\n",
    "#最后，我们调用.step()启动梯度下降。 优化器通过.grad中存储的梯度来调整每个参数。\n",
    "\n",
    "optim.step() #更新参数"
   ]
  },
  {
   "cell_type": "markdown",
   "id": "6fff3b30",
   "metadata": {},
   "source": [
    "## Autograd 的微分\n"
   ]
  },
  {
   "cell_type": "code",
   "execution_count": 86,
   "id": "3b734db8",
   "metadata": {},
   "outputs": [
    {
     "name": "stdout",
     "output_type": "stream",
     "text": [
      "tensor([36., 81.])\n",
      "tensor([True, True])\n",
      "None\n"
     ]
    }
   ],
   "source": [
    "import torch\n",
    "#autograd如何收集梯度。 我们用requires_grad=True创建两个张量a和b。 这向autograd发出信号，应跟踪对它们的所有操作。\n",
    "a = torch.tensor([2., 3.], requires_grad=True)\n",
    "b = torch.tensor([6., 4.], requires_grad=True)\n",
    "c = torch.tensor([1.,2.])#不跟踪对c的所有操作。\n",
    "#当我们在Q上调用.backward()时，\n",
    "#Autograd 将计算这些梯度并将其存储在各个张量的.grad属性中。\n",
    "Q = 3*a**3 - b**2 + c\n",
    "#我们需要在Q.backward()中显式传递gradient参数，因为它是向量。 \n",
    "external_grad = torch.tensor([1., 1.])\n",
    "Q.backward(gradient=external_grad)#显示传递gradient参数\n",
    "print(a.grad)\n",
    "print(-2*b == b.grad)\n",
    "print(c.grad)"
   ]
  },
  {
   "attachments": {
    "image.png": {
     "image/png": "[encoded data removed]"
    }
   },
   "cell_type": "markdown",
   "id": "79c4b31a",
   "metadata": {},
   "source": [
    "gradient是与Q形状相同的张量，它表示**Q相对于本身的梯度**，\n",
    "即同样，我们也可以将Q聚合为一个标量，然后隐式地向后调用，例如Q.sum().backward()。标量不用gradient参数\n",
    "![image.png](attachment:image.png)\n",
    "gradient是上图中的v向量\n",
    "\n",
    "gradient参数具体什么意思 参考https://blog.csdn.net/Konge4/article/details/114955821\n"
   ]
  },
  {
   "cell_type": "markdown",
   "id": "3cdabf68",
   "metadata": {},
   "source": [
    "## 计算图\n",
    "Autograd 在由函数对象组成的有向无环图（DAG）中记录数据（张量）和所有已执行的操作（以及由此产生的新张量）。  \n",
    "在此 DAG 中，叶子是输入张量，根是输出张量。 通过从根到叶跟踪此图，可以使用链式规则自动计算梯度。  \n",
    "DAG 在 PyTorch 中是动态的。要注意的重要一点是，图是从头开始重新创建的； 在每个.backward()调用之后，Autograd 开始填充新图。   \n",
    "这正是**允许您在模型中使用控制流语句**的原因。 您可以根据需要在每次迭代中更改形状，大小和操作。"
   ]
  },
  {
   "cell_type": "markdown",
   "id": "8001811d",
   "metadata": {},
   "source": [
    "## 从 DAG 中排除\n",
    "\n",
    "`torch.autograd`跟踪所有将其`requires_grad`标志设置为`True`的张量的操作。 对于不需要梯度的张量，将此属性设置为`False`会将其从梯度计算 DAG 中排除。\n",
    "\n",
    "即使只有一个输入张量具有`requires_grad=True`，操作的输出张量也将需要梯度。\n",
    "\n"
   ]
  },
  {
   "cell_type": "code",
   "execution_count": 87,
   "id": "a6c680e8",
   "metadata": {},
   "outputs": [
    {
     "name": "stdout",
     "output_type": "stream",
     "text": [
      "Does `a` require gradients? : False\n",
      "Does `b` require gradients?: True\n"
     ]
    }
   ],
   "source": [
    "x = torch.rand(5, 5)\n",
    "y = torch.rand(5, 5)\n",
    "z = torch.rand((5, 5), requires_grad=True)\n",
    "\n",
    "a = x + y\n",
    "print(f\"Does `a` require gradients? : {a.requires_grad}\")\n",
    "b = x + z\n",
    "print(f\"Does `b` require gradients?: {b.requires_grad}\")"
   ]
  },
  {
   "cell_type": "markdown",
   "id": "f802eb76",
   "metadata": {},
   "source": [
    "在 NN 中，不计算梯度的参数通常称为**冻结参数**。 如果事先知道您不需要这些参数的梯度，则“冻结”模型的一部分很有用（通过减少自动梯度计算，这会带来一些性能优势）。迁移学习时小数据量冻结前几层的参数。  \n",
    "从 DAG 中排除很重要的另一个常见用例是调整预训练网络\n",
    "\n",
    "在微调中，我们冻结了大部分模型，通常仅修改分类器层以对新标签进行预测。 让我们来看一个小例子来说明这一点。 和以前一样，我们加载一个预训练的 resnet18 模型，并冻结所有参数。"
   ]
  },
  {
   "cell_type": "code",
   "execution_count": 93,
   "id": "df6718b3",
   "metadata": {},
   "outputs": [
    {
     "name": "stdout",
     "output_type": "stream",
     "text": [
      "Linear(in_features=512, out_features=1000, bias=True)\n"
     ]
    }
   ],
   "source": [
    "from torch import nn, optim\n",
    "\n",
    "model = torchvision.models.resnet18(pretrained=True)\n",
    "print(model.fc)#resnet18最后一层是fc层\n",
    "# Freeze all the parameters in the network\n",
    "for param in model.parameters():\n",
    "    #print(f\"param:{param}\")\n",
    "    param.requires_grad = False\n",
    "#假设我们要在具有 10 个标签的新数据集中微调模型。 \n",
    "#我们可以简单地将其替换为充当我们的分类器的新线性层（默认情况下未冻结）。\n",
    "model.fc = nn.Linear(512, 10)#现在，除了model.fc的参数外，模型中的所有参数都将冻结。 计算梯度的唯一参数是model.fc的权重和偏差。\n",
    "optimizer = optim.SGD(model.fc.parameters(), lr=1e-2, momentum=0.9)## 仅仅对最后一层进行梯度下降"
   ]
  },
  {
   "attachments": {
    "image.png": {
     "image/png": "[encoded data removed]"
    }
   },
   "cell_type": "markdown",
   "id": "eaf86d4e",
   "metadata": {},
   "source": [
    "## 神经网络\n",
    "\n",
    "可以使用`torch.nn`包构建神经网络。\n",
    "\n",
    "现在您已经了解了`autograd`，`nn`依赖于`autograd`来定义模型并对其进行微分。 `nn.Module`包含层，以及返回`output`的方法`forward(input)`。\n",
    "\n",
    "例如，查看以下对数字图像进行分类的网络：\n",
    "\n",
    "![image.png](attachment:image.png)\n",
    "\n",
    "神经网络的典型训练过程如下：\n",
    "\n",
    "- 定义网络结构\n",
    "- 遍历输入数据集\n",
    "- 通过网络处理输入\n",
    "- 损失函数 代价函数\n",
    "- 反向传播计算梯度\n",
    "- 通常使用简单的更新规则来更新网络的权重：`weight = weight - learning_rate * gradient`\n",
    "\n",
    "## 定义网络结构\n",
    "\n",
    "让我们定义这个网络"
   ]
  },
  {
   "cell_type": "code",
   "execution_count": 132,
   "id": "42566931",
   "metadata": {},
   "outputs": [
    {
     "name": "stdout",
     "output_type": "stream",
     "text": [
      "Net(\n",
      "  (conv1): Conv2d(1, 6, kernel_size=(5, 5), stride=(1, 1))\n",
      "  (conv2): Conv2d(6, 16, kernel_size=(5, 5), stride=(1, 1))\n",
      "  (fc1): Linear(in_features=400, out_features=120, bias=True)\n",
      "  (fc2): Linear(in_features=120, out_features=84, bias=True)\n",
      "  (fc3): Linear(in_features=84, out_features=10, bias=True)\n",
      ")\n"
     ]
    }
   ],
   "source": [
    "import torch\n",
    "import torch.nn as nn\n",
    "import torch.nn.functional as F\n",
    "class Net(nn.Module):#继承nn.Module类\n",
    "\n",
    "    def __init__(self):\n",
    "        super(Net, self).__init__()\n",
    "        # 1 input image channel, 6 output channels, 5x5 square convolution\n",
    "        # kernel\n",
    "        self.conv1 = nn.Conv2d(in_channels = 1, out_channels = 6, kernel_size = 5)\n",
    "        self.conv2 = nn.Conv2d(6, 16, 5)\n",
    "        # an affine operation: y = Wx + b\n",
    "        self.fc1 = nn.Linear(16 * 5 * 5, 120)  # 5*5 from image dimension\n",
    "        self.fc2 = nn.Linear(120, 84)\n",
    "        self.fc3 = nn.Linear(84, 10)\n",
    "\n",
    "    def forward(self, x):\n",
    "        # Max pooling over a (2, 2) window 卷积-Relu-池化\n",
    "        x = F.max_pool2d(F.relu(self.conv1(x)), (2, 2))\n",
    "        # 如果池化层滤波器(2, 2)是方阵，参数可以只写2\n",
    "        x = F.max_pool2d(F.relu(self.conv2(x)), 2)\n",
    "        x = torch.flatten(x, 1) # flatten all dimensions except the batch dimension 变成一维\n",
    "        x = F.relu(self.fc1(x))\n",
    "        x = F.relu(self.fc2(x))\n",
    "        x = self.fc3(x)\n",
    "        return x\n",
    "\n",
    "\n",
    "net = Net()\n",
    "print(net)"
   ]
  },
  {
   "cell_type": "markdown",
   "id": "e78451a0",
   "metadata": {},
   "source": [
    "只需要定义forward函数，就可以使用autograd为您自动定义backward函数（计算梯度）。   \n",
    "可以在forward函数中使用任何张量操作。  \n",
    "模型的可学习参数由net.parameters()返回"
   ]
  },
  {
   "cell_type": "code",
   "execution_count": 131,
   "id": "c29b6bc3",
   "metadata": {},
   "outputs": [
    {
     "name": "stdout",
     "output_type": "stream",
     "text": [
      "10\n",
      "torch.Size([6, 1, 5, 5])\n",
      "torch.Size([6])\n",
      "torch.Size([16, 6, 5, 5])\n",
      "torch.Size([16])\n",
      "torch.Size([120, 400])\n",
      "torch.Size([120])\n",
      "torch.Size([84, 120])\n",
      "torch.Size([84])\n",
      "torch.Size([10, 84])\n",
      "torch.Size([10])\n"
     ]
    }
   ],
   "source": [
    "params = list(net.parameters())\n",
    "print(len(params))\n",
    "print(params[0].size())  # conv1's .weight  输出channel 输入channel 卷积核大小5×5\n",
    "print(params[1].size())  # Relu's .weight\n",
    "print(params[2].size())  # conv2's .weight\n",
    "print(params[3].size())  # Relu's .weight\n",
    "print(params[4].size())  # fn1's .weight\n",
    "print(params[5].size())  # Relu's .weight\n",
    "print(params[6].size())  # fn2's .weight\n",
    "print(params[7].size())  # Relu's .weight\n",
    "print(params[8].size())  # fn3's .weight\n",
    "print(params[9].size())  # fn3's .weight 不理解"
   ]
  },
  {
   "cell_type": "markdown",
   "id": "76266396",
   "metadata": {},
   "source": [
    "让我们尝试一个32x32随机输入。   \n",
    "注意：该网络的预期输入大小（LeNet）为32x32。 要在 MNIST 数据集上使用此网络，请将图像从数据集中调整为32x32。"
   ]
  },
  {
   "cell_type": "code",
   "execution_count": 174,
   "id": "1ff1a8d2",
   "metadata": {},
   "outputs": [
    {
     "name": "stdout",
     "output_type": "stream",
     "text": [
      "tensor([[-0.1415,  0.0801, -0.0476,  0.0609, -0.0171, -0.0153, -0.1649, -0.0772,\n",
      "          0.1880, -0.0521],\n",
      "        [-0.1287,  0.0741, -0.0552,  0.0542,  0.0049, -0.0360, -0.1703, -0.0779,\n",
      "          0.1742, -0.0733]], grad_fn=<AddmmBackward0>)\n"
     ]
    }
   ],
   "source": [
    "input = torch.randn(2, 1, 32, 32)\n",
    "out = net(input)#？？？\n",
    "print(out)"
   ]
  },
  {
   "cell_type": "markdown",
   "id": "fffd5364",
   "metadata": {},
   "source": [
    "使用随机梯度将所有参数和反向传播的梯度缓冲区归零："
   ]
  },
  {
   "cell_type": "code",
   "execution_count": 134,
   "id": "0b0cc8ef",
   "metadata": {},
   "outputs": [],
   "source": [
    "net.zero_grad()\n",
    "out.backward(torch.randn(1, 10))#不理解直接对out进行反向传播？？？？"
   ]
  },
  {
   "cell_type": "markdown",
   "id": "15a2cca0",
   "metadata": {},
   "source": [
    "注意\n",
    "\n",
    "`torch.nn`仅支持小批量。 整个`torch.nn`包仅支持作为微型样本而不是单个样本的输入。\n",
    "\n",
    "例如，`nn.Conv2d`将采用`nSamples x nChannels x Height x Width`的 4D 张量。\n",
    "\n",
    "如果您只有一个样本，只需使用`input.unsqueeze(0)`添加一个假批量尺寸。\n",
    "\n",
    "在继续之前，让我们回顾一下到目前为止所看到的所有类。\n",
    "**回顾**：\n",
    "\n",
    "- `torch.Tensor`-一个*多维数组*，支持诸如`backward()`的自动微分操作。 同样，保持相对于张量的梯度。\n",
    "- `nn.Module`-神经网络模块。 *封装参数*的便捷方法，并带有将其移动到 GPU，导出，加载等的帮助器。\n",
    "- `nn.Parameter`-一种张量，即将其分配为`Module`的属性时，自动注册为参数。\n",
    "- `autograd.Function`-实现自动微分操作的正向和反向定义。 每个`Tensor`操作都会创建至少一个`Function`节点，该节点连接到创建`Tensor`的函数，并且编码其历史记录  \n",
    "\n",
    "**目前为止，我们涵盖了**：\n",
    "\n",
    "- 定义神经网络\n",
    "- 处理输入并向后调用\n",
    "\n",
    "**仍然剩下**：\n",
    "\n",
    "- 计算损失\n",
    "- 更新网络的权重  \n",
    "\n",
    "## 损失函数\n",
    "\n",
    "损失函数采用一对（输出，目标）输入，并计算一个值，该值估计输出与目标之间的距离。\n",
    "\n",
    "`nn`包下有几种不同的[损失函数](https://pytorch.org/docs/nn.html#loss-functions)。 一个简单的损失是：`nn.MSELoss`，它计算输入和目标之间的均方误差。"
   ]
  },
  {
   "cell_type": "code",
   "execution_count": 149,
   "id": "d2ae3f41",
   "metadata": {},
   "outputs": [
    {
     "name": "stdout",
     "output_type": "stream",
     "text": [
      "tensor(0.6995, grad_fn=<MseLossBackward0>)\n"
     ]
    }
   ],
   "source": [
    "output = net(input)\n",
    "target = torch.randn(10)  # a dummy target, for example\n",
    "target = target.view(1, -1)  # make it the same shape as output\n",
    "criterion = nn.MSELoss()\n",
    "\n",
    "loss = criterion(output, target)\n",
    "print(loss)"
   ]
  },
  {
   "cell_type": "markdown",
   "id": "ab51fe09",
   "metadata": {},
   "source": [
    "现在，如果使用.grad_fn属性向后跟随loss，您将看到一个计算图  \n",
    "\"\"\"\n",
    "    计算图如下：\n",
    "    input -> conv2d -> relu -> maxpool2d -> conv2d -> relu -> maxpool2d  \n",
    "          -> view -> linear -> relu -> linear -> relu -> linear \n",
    "          -> MSELoss\n",
    "          -> loss\n",
    "\n",
    "    \"\"\"\n",
    "因此，当我们调用loss.backward()时，整个图将被微分。 损失，并且图中具有requires_grad=True的所有张量将随梯度累积其.grad张量。\n",
    "\n",
    "为了说明，让我们向后走几步："
   ]
  },
  {
   "cell_type": "code",
   "execution_count": 168,
   "id": "715e4869",
   "metadata": {},
   "outputs": [
    {
     "name": "stdout",
     "output_type": "stream",
     "text": [
      "<MseLossBackward0 object at 0x7f67f710efa0>\n",
      "<AddmmBackward0 object at 0x7f67f710e790>\n",
      "<AccumulateGrad object at 0x7f67f710efa0>\n"
     ]
    }
   ],
   "source": [
    "print(loss.grad_fn)  # MSELoss\n",
    "print(loss.grad_fn.next_functions[0][0])  # Linear\n",
    "print(loss.grad_fn.next_functions[0][0].next_functions[0][0])  # ReLU 再往后就报错了？\n",
    "#计算图终止于叶子AccumulateGrad节点"
   ]
  },
  {
   "cell_type": "markdown",
   "id": "4474d14f",
   "metadata": {},
   "source": [
    "## 反向传播\n",
    "\n",
    "要反向传播误差，我们要做的只是对`loss.backward()`。 不过，您需要清除现有的梯度，否则梯度将累积到现有的梯度中。\n",
    "\n",
    "现在，我们将其称为`loss.backward()`，然后看一下向后前后`conv1`的偏差梯度。"
   ]
  },
  {
   "cell_type": "code",
   "execution_count": 169,
   "id": "ed14ae2d",
   "metadata": {},
   "outputs": [
    {
     "name": "stdout",
     "output_type": "stream",
     "text": [
      "conv1.bias.grad before backward\n",
      "tensor([0., 0., 0., 0., 0., 0.])\n",
      "conv1.bias.grad after backward\n",
      "tensor([ 0.0073,  0.0055, -0.0059, -0.0064,  0.0062, -0.0022])\n"
     ]
    }
   ],
   "source": [
    "net.zero_grad()     # zeroes the gradient buffers of all parameters\n",
    "\n",
    "print('conv1.bias.grad before backward')\n",
    "print(net.conv1.bias.grad)\n",
    "\n",
    "loss.backward()\n",
    "\n",
    "print('conv1.bias.grad after backward')\n",
    "print(net.conv1.bias.grad)"
   ]
  },
  {
   "cell_type": "markdown",
   "id": "c5c090c3",
   "metadata": {},
   "source": [
    "有两种方式直接把模型的参数梯度设成0:\n",
    "\n",
    "model.zero_grad()\n",
    "\n",
    "optimizer.zero_grad() # 当optimizer=optim.Optimizer(model.parameters())时，两者等效\n",
    "\n"
   ]
  },
  {
   "cell_type": "code",
   "execution_count": 170,
   "id": "fbaf9d5a",
   "metadata": {},
   "outputs": [],
   "source": [
    "import torch.optim as optim\n",
    "\n",
    "# create your optimizer\n",
    "optimizer = optim.SGD(net.parameters(), lr=0.01)\n",
    "\n",
    "# in your training loop:\n",
    "optimizer.zero_grad()   # zero the gradient buffers\n",
    "output = net(input)\n",
    "loss = criterion(output, target)\n",
    "loss.backward()\n",
    "optimizer.step()    # Does the update"
   ]
  },
  {
   "cell_type": "markdown",
   "id": "0159f5f5",
   "metadata": {},
   "source": [
    "但是，在使用神经网络时，您希望使用各种不同的更新规则，例如 SGD，Nesterov-SGD，Adam，RMSProp 等。为实现此目的，我们构建了一个小包装：torch.optim，可实现所有这些方法。 \n",
    "# 训练分类器\n",
    "## 数据处理\n",
    "\n",
    "通常，当您必须处理图像，文本，音频或视频数据时，可以使用将数据加载到 NumPy 数组中的标准 Python 包。 然后，您可以将该数组转换为`torch.*Tensor`。\n",
    "\n",
    "- 对于图像，Pillow，OpenCV 等包很有用\n",
    "- 对于音频，请使用 SciPy 和 librosa 等包\n",
    "- 对于文本，基于 Python 或 Cython 的原始加载，或者 NLTK 和 SpaCy 很有用 \n",
    "\n",
    "专门针对视觉，我们创建了一个名为`torchvision`的包，其中包含用于常见数据集（例如 Imagenet，CIFAR10，MNIST 等）的数据加载器，以及用于图像（即`torchvision.datasets`和`torch.utils.data.DataLoader`）的数据转换器。\n",
    "\n",
    "这提供了极大的便利，并且避免了编写样板代码。\n",
    "\n",
    "在本教程中，我们将使用 CIFAR10 数据集。 它具有以下类别：“飞机”，“汽车”，“鸟”，“猫”，“鹿”，“狗”，“青蛙”，“马”，“船”，“卡车”。 CIFAR-10 中的图像尺寸为`3x32x32`，即尺寸为`32x32`像素的 3 通道彩色图像。\n",
    "## 训练图像分类器\n",
    "1使用torchvision加载并标准化 CIFAR10 训练和测试数据集   \n",
    "2定义卷积神经网络  \n",
    "3定义损失函数  \n",
    "4根据训练数据训练网络  \n",
    "5在测试数据上测试网络  \n",
    "### 1.加载并标准化 CIFAR10"
   ]
  },
  {
   "cell_type": "code",
   "execution_count": 175,
   "id": "ebe0757b",
   "metadata": {},
   "outputs": [
    {
     "name": "stdout",
     "output_type": "stream",
     "text": [
      "Downloading https://www.cs.toronto.edu/~kriz/cifar-10-python.tar.gz to ./data/cifar-10-python.tar.gz\n"
     ]
    },
    {
     "name": "stderr",
     "output_type": "stream",
     "text": [
      "100.0%\n"
     ]
    },
    {
     "name": "stdout",
     "output_type": "stream",
     "text": [
      "Extracting ./data/cifar-10-python.tar.gz to ./data\n",
      "Files already downloaded and verified\n"
     ]
    }
   ],
   "source": [
    "#加载并标准化 CIFAR10\n",
    "import torch\n",
    "import torchvision\n",
    "import torchvision.transforms as transforms\n",
    "#TorchVision 数据集的输出是[0, 1]范围的PILImage图像。 我们将它们转换为归一化范围[-1, 1]的张量\n",
    "transform = transforms.Compose(#采用transforms.Compose()，将一系列的transforms有序组合，实现时按照这些方法依次对图像操作。\n",
    "    [transforms.ToTensor(),#ToTensor()把灰度范围从(0,255)变换到(0,1)，Normalize()把(0,1)变换到(-1,1)\n",
    "     transforms.Normalize((0.5, 0.5, 0.5), (0.5, 0.5, 0.5))])# Normalize标准化  均值为0.5标准差为0.5 最小值为0-0.5/0.5 = -1\n",
    "#ToTensor：convert a PIL image to tensor (H*W*C) in range [0,255] to a torch.Tensor(C*H*W) in the range [0.0,1.0]\n",
    "#root (string):数据集所在目录的根目录 如果download设置为True。“cifar-10-batches-py '”存在，则将被保存至该目录\n",
    "#train ：如果为True，则从训练集创建数据集，否则从测试集创建。\n",
    "#transform::(bool，可选)一个接受PIL图像的函数/变换 并返回转换后的版本。 如”transforms“,“RandomCrop”\n",
    "#target_transform：(可调用，可选):一个作用于目的转换函数。\n",
    "#download (bool，可选):如果为true，则从internet下载数据集 ,将其放在根目录中。 如果数据集已经下载，则不会 再次下载。\n",
    "\n",
    "trainset = torchvision.datasets.CIFAR10(root='./data', train=True,\n",
    "                                        download=True, transform=transform)#下载图片 \n",
    "trainloader = torch.utils.data.DataLoader(trainset, batch_size=4,\n",
    "                                          shuffle=True, num_workers=2)#加载图片\n",
    "\n",
    "testset = torchvision.datasets.CIFAR10(root='./data', train=False,\n",
    "                                       download=True, transform=transform)\n",
    "testloader = torch.utils.data.DataLoader(testset, batch_size=4,\n",
    "                                         shuffle=False, num_workers=2)\n",
    "\n",
    "classes = ('plane', 'car', 'bird', 'cat',\n",
    "           'deer', 'dog', 'frog', 'horse', 'ship', 'truck')"
   ]
  },
  {
   "cell_type": "code",
   "execution_count": 184,
   "id": "7bef1e14",
   "metadata": {},
   "outputs": [
    {
     "data": {
      "image/png": "[encoded data removed]",
      "text/plain": [
       "<Figure size 432x288 with 1 Axes>"
      ]
     },
     "metadata": {
      "needs_background": "light"
     },
     "output_type": "display_data"
    },
    {
     "name": "stdout",
     "output_type": "stream",
     "text": [
      "plane truck plane truck\n"
     ]
    }
   ],
   "source": [
    "import matplotlib.pyplot as plt\n",
    "import numpy as np\n",
    "\n",
    "# functions to show an image\n",
    "\n",
    "def imshow(img):\n",
    "    img = img / 2 + 0.5     # unnormalize\n",
    "    npimg = img.numpy()\n",
    "    plt.imshow(np.transpose(npimg, (1, 2, 0)))\n",
    "    plt.show()\n",
    "\n",
    "# get some random training images\n",
    "dataiter = iter(trainloader)\n",
    "images, labels = dataiter.next()\n",
    "\n",
    "# show images\n",
    "imshow(torchvision.utils.make_grid(images))\n",
    "# print labels\n",
    "print(' '.join('%5s' % classes[labels[j]] for j in range(4)))"
   ]
  },
  {
   "cell_type": "markdown",
   "id": "dc83276a",
   "metadata": {},
   "source": [
    "### 2.定义卷积神经网络\n",
    "复制前面定义的神经网络，然后对其进行修改以获取 3 通道图像（而不是定义的 1 通道图像）。"
   ]
  },
  {
   "cell_type": "code",
   "execution_count": 185,
   "id": "ab44462c",
   "metadata": {},
   "outputs": [
    {
     "name": "stdout",
     "output_type": "stream",
     "text": [
      "Net(\n",
      "  (conv1): Conv2d(3, 6, kernel_size=(5, 5), stride=(1, 1))\n",
      "  (pool): MaxPool2d(kernel_size=2, stride=2, padding=0, dilation=1, ceil_mode=False)\n",
      "  (conv2): Conv2d(6, 16, kernel_size=(5, 5), stride=(1, 1))\n",
      "  (fc1): Linear(in_features=400, out_features=120, bias=True)\n",
      "  (fc2): Linear(in_features=120, out_features=84, bias=True)\n",
      "  (fc3): Linear(in_features=84, out_features=10, bias=True)\n",
      ")\n"
     ]
    }
   ],
   "source": [
    "import torch.nn as nn\n",
    "import torch.nn.functional as F\n",
    "\n",
    "class Net(nn.Module):\n",
    "    def __init__(self):\n",
    "        super(Net, self).__init__()\n",
    "        self.conv1 = nn.Conv2d(3, 6, 5)\n",
    "        self.pool = nn.MaxPool2d(2, 2)\n",
    "        self.conv2 = nn.Conv2d(6, 16, 5)\n",
    "        self.fc1 = nn.Linear(16 * 5 * 5, 120)\n",
    "        self.fc2 = nn.Linear(120, 84)\n",
    "        self.fc3 = nn.Linear(84, 10)\n",
    "\n",
    "    def forward(self, x):\n",
    "        x = self.pool(F.relu(self.conv1(x)))\n",
    "        x = self.pool(F.relu(self.conv2(x)))\n",
    "        x = x.view(-1, 16 * 5 * 5)\n",
    "        x = F.relu(self.fc1(x))\n",
    "        x = F.relu(self.fc2(x))\n",
    "        x = self.fc3(x)\n",
    "        return x\n",
    "\n",
    "net = Net()\n",
    "print(net)"
   ]
  },
  {
   "cell_type": "markdown",
   "id": "3e3e586c",
   "metadata": {},
   "source": [
    "### 3.定义损失函数和优化器"
   ]
  },
  {
   "cell_type": "code",
   "execution_count": 186,
   "id": "c81390c5",
   "metadata": {},
   "outputs": [],
   "source": [
    "#分类交叉熵损失 和带有动量的 SGD\n",
    "import torch.optim as optim\n",
    "\n",
    "criterion = nn.CrossEntropyLoss()\n",
    "optimizer = optim.SGD(net.parameters(), lr=0.001, momentum=0.9)\n"
   ]
  },
  {
   "cell_type": "markdown",
   "id": "d7e4a2d9",
   "metadata": {},
   "source": [
    "### 4.训练网络\n",
    "我们只需要遍历数据迭代器，然后将输入馈送到网络并进行优化即可。"
   ]
  },
  {
   "cell_type": "code",
   "execution_count": 187,
   "id": "6db7056b",
   "metadata": {},
   "outputs": [
    {
     "name": "stdout",
     "output_type": "stream",
     "text": [
      "[1,  2000] loss: 2.197\n",
      "[1,  4000] loss: 1.860\n",
      "[1,  6000] loss: 1.702\n",
      "[1,  8000] loss: 1.611\n",
      "[1, 10000] loss: 1.560\n",
      "[1, 12000] loss: 1.494\n",
      "[2,  2000] loss: 1.430\n",
      "[2,  4000] loss: 1.385\n",
      "[2,  6000] loss: 1.372\n",
      "[2,  8000] loss: 1.360\n",
      "[2, 10000] loss: 1.315\n",
      "[2, 12000] loss: 1.284\n",
      "Finished Training\n"
     ]
    }
   ],
   "source": [
    "for epoch in range(2):  # loop over the dataset multiple times 遍历两轮数据集\n",
    "\n",
    "    running_loss = 0.0\n",
    "    for i, data in enumerate(trainloader, 0):\n",
    "        # get the inputs; data is a list of [inputs, labels] ????????????????????????????????\n",
    "        inputs, labels = data\n",
    "\n",
    "        # zero the parameter gradients\n",
    "        optimizer.zero_grad()\n",
    "\n",
    "        # forward + backward + optimize\n",
    "        outputs = net(inputs)\n",
    "        loss = criterion(outputs, labels)\n",
    "        loss.backward()\n",
    "        optimizer.step()\n",
    "\n",
    "        # print statistics\n",
    "        running_loss += loss.item()\n",
    "        if i % 2000 == 1999:    # print every 2000 mini-batches 一批应该是4张图片 打印一次信息训练8000张\n",
    "            print('[%d, %5d] loss: %.3f' %\n",
    "                  (epoch + 1, i + 1, running_loss / 2000))\n",
    "            running_loss = 0.0\n",
    "\n",
    "print('Finished Training')"
   ]
  },
  {
   "cell_type": "markdown",
   "id": "7497addd",
   "metadata": {},
   "source": [
    "快速保存我们训练过的模型："
   ]
  },
  {
   "cell_type": "code",
   "execution_count": 188,
   "id": "4a41b023",
   "metadata": {},
   "outputs": [],
   "source": [
    "PATH = './cifar_net.pth'\n",
    "torch.save(net.state_dict(), PATH)"
   ]
  },
  {
   "cell_type": "markdown",
   "id": "789be003",
   "metadata": {},
   "source": [
    "### 5.根据测试数据测试网络\n",
    "第一步。 让我们显示测试集中的图像以使其熟悉"
   ]
  },
  {
   "cell_type": "code",
   "execution_count": 189,
   "id": "3356a07d",
   "metadata": {},
   "outputs": [
    {
     "data": {
      "image/png": "[encoded data removed]",
      "text/plain": [
       "<Figure size 432x288 with 1 Axes>"
      ]
     },
     "metadata": {
      "needs_background": "light"
     },
     "output_type": "display_data"
    },
    {
     "name": "stdout",
     "output_type": "stream",
     "text": [
      "GroundTruth:    cat  ship  ship plane\n"
     ]
    }
   ],
   "source": [
    "dataiter = iter(testloader)\n",
    "images, labels = dataiter.next()\n",
    "\n",
    "# print images\n",
    "imshow(torchvision.utils.make_grid(images))\n",
    "print('GroundTruth: ', ' '.join('%5s' % classes[labels[j]] for j in range(4)))"
   ]
  },
  {
   "cell_type": "code",
   "execution_count": 191,
   "id": "fd8ec083",
   "metadata": {},
   "outputs": [
    {
     "name": "stdout",
     "output_type": "stream",
     "text": [
      "Predicted:    cat   car  ship plane\n"
     ]
    }
   ],
   "source": [
    "#接下来，让我们重新加载保存的模型（注意：这里不需要保存和重新加载模型，我们只是为了说明如何这样做）：\n",
    "net = Net()\n",
    "net.load_state_dict(torch.load(PATH))\n",
    "#好的，现在让我们看看神经网络对以上这些示例的看法：\n",
    "outputs = net(images)\n",
    "#输出是 10 类的概率。 一个类别的概率越高，网络就认为该图像属于特定类别。 因此，让我们获取最高概率的指数：\n",
    "_, predicted = torch.max(outputs, 1)\n",
    "#predicted = torch.max(outputs, 1)#only integer tensors of a single element can be converted to an index\n",
    "print('Predicted: ', ' '.join('%5s' % classes[predicted[j]]\n",
    "                              for j in range(4)))"
   ]
  },
  {
   "cell_type": "markdown",
   "id": "387df5c9",
   "metadata": {},
   "source": [
    "那么，这里的 下划线_ 表示什么意思？\n",
    "\n",
    "首先，torch.max()这个函数返回的是两个值，第一个值是具体的value（我们用下划线_表示），第二个值是value所在的index（也就是predicted）。\n",
    "\n",
    "那么，这个 下划线_ 表示的就是具体的value，也就是输出的最大值。那么为什么用 下划线_，可不可以用其他的变量名称来代替，比如x？答案自然是可以的。\n",
    "\n",
    "那么为什么这里选择用这么特殊的下划线？有没有特殊含义？这是因为我们不关心最大值是什么，而关心最大值对应的index是什么，所以选用下划线代表不需要用到的变量。比如在图像分类任务中，值所对应的index就对应着相应的类别class，当我们只关心网络预测的类别是什么，而不关心该类别的预测概率是多少时，就选择使用下划线_。\n",
    "\n",
    "其次，这里的数字1表示什么意思？\n",
    "\n",
    "数字1其实可以写为dim=1，这里简写为1，python也可以自动识别，dim=1表示输出所在行的最大值，若改写成dim=0则输出所在列的最大值。\n",
    "让我们看一下网络在整个数据集上的表现\n"
   ]
  },
  {
   "cell_type": "code",
   "execution_count": 193,
   "id": "679c6ee8",
   "metadata": {},
   "outputs": [
    {
     "name": "stdout",
     "output_type": "stream",
     "text": [
      "tensor([[-0.1463, -1.8227,  1.0487,  1.9772, -1.0865,  1.5435,  0.1696, -0.4909,\n",
      "          0.6774, -1.0619],\n",
      "        [ 3.8355,  4.8477, -1.6665, -2.8780, -2.9966, -4.0660, -4.1562, -3.1835,\n",
      "          4.0261,  3.8247],\n",
      "        [ 2.5592,  2.3219, -0.9064, -1.7574, -1.4927, -2.8934, -3.5033, -1.8236,\n",
      "          3.8209,  1.9526],\n",
      "        [ 3.2051,  0.6922, -0.1375, -1.5798, -0.4601, -2.4824, -2.3076, -1.3081,\n",
      "          2.6592,  0.9379]])\n",
      "tensor([3, 1, 8, 0])\n"
     ]
    }
   ],
   "source": [
    "print(outputs.data)\n",
    "print(predicted)"
   ]
  },
  {
   "cell_type": "code",
   "execution_count": 194,
   "id": "418423c2",
   "metadata": {},
   "outputs": [
    {
     "name": "stdout",
     "output_type": "stream",
     "text": [
      "Accuracy of the network on the 10000 test images: 54 %\n"
     ]
    }
   ],
   "source": [
    "correct = 0\n",
    "total = 0\n",
    "with torch.no_grad():#在测试集上 不要更新参数\n",
    "    for data in testloader:\n",
    "        images, labels = data\n",
    "        outputs = net(images)\n",
    "        _, predicted = torch.max(outputs.data, 1)\n",
    "        total += labels.size(0)\n",
    "        correct += (predicted == labels).sum().item()\n",
    "\n",
    "print('Accuracy of the network on the 10000 test images: %d %%' % (\n",
    "    100 * correct / total))"
   ]
  },
  {
   "cell_type": "markdown",
   "id": "16657924",
   "metadata": {},
   "source": [
    "with torch.no_grad的作用\n",
    "在该模块下，所有计算得出的tensor的requires_grad都自动设置为False。\n",
    "\n",
    "即使一个tensor（命名为x）的requires_grad = True，在with torch.no_grad计算，由x得到的新tensor（命名为w-标量）requires_grad也为False，且grad_fn也为None,即不会对w求导。\n",
    "原文链接：https://blog.csdn.net/sazass/article/details/116668755  \n",
    "哪些类的表现良好，哪些类的表现不佳怎么看?"
   ]
  },
  {
   "cell_type": "code",
   "execution_count": 195,
   "id": "2fcc9f9c",
   "metadata": {},
   "outputs": [
    {
     "name": "stdout",
     "output_type": "stream",
     "text": [
      "[0.0, 0.0, 0.0, 0.0, 0.0, 0.0, 0.0, 0.0, 0.0, 0.0]\n"
     ]
    }
   ],
   "source": [
    "class_correct = list(0. for i in range(10))#以浮点数初始化\n",
    "class_total = list(0. for i in range(10))\n",
    "print(class_correct)"
   ]
  },
  {
   "cell_type": "code",
   "execution_count": 199,
   "id": "aea8b784",
   "metadata": {},
   "outputs": [
    {
     "name": "stdout",
     "output_type": "stream",
     "text": [
      "Accuracy of plane : 60 %\n",
      "Accuracy of   car : 64 %\n",
      "Accuracy of  bird : 56 %\n",
      "Accuracy of   cat : 31 %\n",
      "Accuracy of  deer : 42 %\n",
      "Accuracy of   dog : 39 %\n",
      "Accuracy of  frog : 58 %\n",
      "Accuracy of horse : 63 %\n",
      "Accuracy of  ship : 72 %\n",
      "Accuracy of truck : 60 %\n"
     ]
    }
   ],
   "source": [
    "with torch.no_grad():\n",
    "    for data in testloader:\n",
    "        images, labels = data\n",
    "        outputs = net(images)\n",
    "        _, predicted = torch.max(outputs, 1)\n",
    "        c = (predicted == labels).squeeze()#没有squeeze也能运行 不知道什么原理\n",
    "        for i in range(4):# 一批4张图片\n",
    "            label = labels[i]\n",
    "            class_correct[label] += c[i].item()#预测对的类数量 c[i].item()值为False 或 True\n",
    "            class_total[label] += 1#各个类的分母\n",
    "\n",
    "for i in range(10):\n",
    "    print('Accuracy of %5s : %2d %%' % (\n",
    "        classes[i], 100 * class_correct[i] / class_total[i]))"
   ]
  },
  {
   "cell_type": "markdown",
   "id": "88255068",
   "metadata": {},
   "source": [
    "## 在 GPU 上进行训练\n",
    "深度学习自然需要 GPU 来加快训练速度的。所以接下来介绍如果是在 GPU 上训练，应该如何实现。\n",
    "\n",
    "首先，需要检查是否有可用的 GPU 来训练，代码如下："
   ]
  },
  {
   "cell_type": "code",
   "execution_count": 200,
   "id": "a81c078b",
   "metadata": {},
   "outputs": [
    {
     "name": "stdout",
     "output_type": "stream",
     "text": [
      "cuda:0\n"
     ]
    }
   ],
   "source": [
    "device = torch.device(\"cuda:0\" if torch.cuda.is_available() else \"cpu\")\n",
    "# Assuming that we are on a CUDA machine, this should print a CUDA device:\n",
    "print(device)"
   ]
  },
  {
   "cell_type": "markdown",
   "id": "06685af0",
   "metadata": {},
   "source": [
    "将网络参数和数据都转移到 GPU 上：  \n",
    "net.to(device)  \n",
    "还必须将每一步的输入和目标也发送到 GPU：  \n",
    "inputs, labels = inputs.to(device), labels.to(device)\n",
    "### 使用cpu训练时间 epoch = 3"
   ]
  },
  {
   "cell_type": "code",
   "execution_count": 201,
   "id": "30cb7a3f",
   "metadata": {},
   "outputs": [
    {
     "name": "stdout",
     "output_type": "stream",
     "text": [
      "[1,  2000] loss: 1.233\n",
      "[1,  4000] loss: 1.227\n",
      "[1,  6000] loss: 1.213\n",
      "[1,  8000] loss: 1.203\n",
      "[1, 10000] loss: 1.193\n",
      "[1, 12000] loss: 1.181\n",
      "[2,  2000] loss: 1.105\n",
      "[2,  4000] loss: 1.113\n",
      "[2,  6000] loss: 1.097\n",
      "[2,  8000] loss: 1.092\n",
      "[2, 10000] loss: 1.139\n",
      "[2, 12000] loss: 1.132\n",
      "[3,  2000] loss: 1.023\n",
      "[3,  4000] loss: 1.060\n",
      "[3,  6000] loss: 1.030\n",
      "[3,  8000] loss: 1.057\n",
      "[3, 10000] loss: 1.028\n",
      "[3, 12000] loss: 1.027\n",
      "Finished Training! Total cost time:  130.85511445999146\n"
     ]
    }
   ],
   "source": [
    "import time\n",
    "# 在 GPU 上训练注意需要将网络和数据放到 GPU 上\n",
    "#net.to(device)\n",
    "criterion = nn.CrossEntropyLoss()\n",
    "optimizer = optim.SGD(net.parameters(), lr=0.001, momentum=0.9)\n",
    "\n",
    "start = time.time()\n",
    "for epoch in range(3):\n",
    "\n",
    "    running_loss = 0.0\n",
    "    for i, data in enumerate(trainloader, 0):\n",
    "        # 获取输入数据\n",
    "        inputs, labels = data\n",
    "        #inputs, labels = inputs.to(device), labels.to(device)\n",
    "        # 清空梯度缓存\n",
    "        optimizer.zero_grad()\n",
    "\n",
    "        outputs = net(inputs)\n",
    "        loss = criterion(outputs, labels)\n",
    "        loss.backward()\n",
    "        optimizer.step()\n",
    "\n",
    "        # 打印统计信息\n",
    "        running_loss += loss.item()\n",
    "        if i % 2000 == 1999:\n",
    "            # 每 2000 次迭代打印一次信息\n",
    "            print('[%d, %5d] loss: %.3f' % (epoch + 1, i+1, running_loss / 2000))\n",
    "            running_loss = 0.0\n",
    "print('Finished Training! Total cost time: ', time.time() - start)"
   ]
  },
  {
   "cell_type": "markdown",
   "id": "61bfb911",
   "metadata": {},
   "source": [
    "### Gpu训练"
   ]
  },
  {
   "cell_type": "code",
   "execution_count": 202,
   "id": "8f026f7c",
   "metadata": {},
   "outputs": [
    {
     "name": "stdout",
     "output_type": "stream",
     "text": [
      "[1,  2000] loss: 0.950\n",
      "[1,  4000] loss: 0.974\n",
      "[1,  6000] loss: 0.992\n",
      "[1,  8000] loss: 0.996\n",
      "[1, 10000] loss: 1.007\n",
      "[1, 12000] loss: 0.974\n",
      "[2,  2000] loss: 0.916\n",
      "[2,  4000] loss: 0.926\n",
      "[2,  6000] loss: 0.925\n",
      "[2,  8000] loss: 0.938\n",
      "[2, 10000] loss: 0.966\n",
      "[2, 12000] loss: 0.943\n",
      "[3,  2000] loss: 0.828\n",
      "[3,  4000] loss: 0.904\n",
      "[3,  6000] loss: 0.886\n",
      "[3,  8000] loss: 0.918\n",
      "[3, 10000] loss: 0.926\n",
      "[3, 12000] loss: 0.918\n",
      "Finished Training! Total cost time:  176.04601073265076\n"
     ]
    }
   ],
   "source": [
    "# 在 GPU 上训练注意需要将网络和数据放到 GPU 上\n",
    "net.to(device)\n",
    "criterion = nn.CrossEntropyLoss()\n",
    "optimizer = optim.SGD(net.parameters(), lr=0.001, momentum=0.9)\n",
    "\n",
    "start = time.time()\n",
    "for epoch in range(3):\n",
    "\n",
    "    running_loss = 0.0\n",
    "    for i, data in enumerate(trainloader, 0):\n",
    "        # 获取输入数据\n",
    "        inputs, labels = data\n",
    "        inputs, labels = inputs.to(device), labels.to(device)\n",
    "        # 清空梯度缓存\n",
    "        optimizer.zero_grad()\n",
    "\n",
    "        outputs = net(inputs)\n",
    "        loss = criterion(outputs, labels)\n",
    "        loss.backward()\n",
    "        optimizer.step()\n",
    "\n",
    "        # 打印统计信息\n",
    "        running_loss += loss.item()\n",
    "        if i % 2000 == 1999:\n",
    "            # 每 2000 次迭代打印一次信息\n",
    "            print('[%d, %5d] loss: %.3f' % (epoch + 1, i+1, running_loss / 2000))\n",
    "            running_loss = 0.0\n",
    "print('Finished Training! Total cost time: ', time.time() - start)"
   ]
  },
  {
   "cell_type": "markdown",
   "id": "f069f561",
   "metadata": {},
   "source": [
    "训练结果反而变慢了  不知道什么原理   \n",
    "再看下经过8轮epoch后测试集准确率"
   ]
  },
  {
   "cell_type": "code",
   "execution_count": 204,
   "id": "0a675d34",
   "metadata": {},
   "outputs": [
    {
     "name": "stdout",
     "output_type": "stream",
     "text": [
      "Accuracy of plane : 59 %\n",
      "Accuracy of   car : 66 %\n",
      "Accuracy of  bird : 56 %\n",
      "Accuracy of   cat : 36 %\n",
      "Accuracy of  deer : 44 %\n",
      "Accuracy of   dog : 40 %\n",
      "Accuracy of  frog : 60 %\n",
      "Accuracy of horse : 64 %\n",
      "Accuracy of  ship : 74 %\n",
      "Accuracy of truck : 62 %\n"
     ]
    }
   ],
   "source": [
    "with torch.no_grad():\n",
    "    for data in testloader:\n",
    "        images, labels = data\n",
    "        images, labels = images.to(device), labels.to(device)\n",
    "        outputs = net(images)\n",
    "        _, predicted = torch.max(outputs, 1)\n",
    "        c = (predicted == labels).squeeze()\n",
    "        for i in range(4):# 一批4张图片\n",
    "            label = labels[i]\n",
    "            class_correct[label] += c[i].item()#预测对的类数量 c[i].item()值为False 或 True\n",
    "            class_total[label] += 1#各个类的分母\n",
    "\n",
    "for i in range(10):\n",
    "    print('Accuracy of %5s : %2d %%' % (\n",
    "        classes[i], 100 * class_correct[i] / class_total[i]))"
   ]
  },
  {
   "cell_type": "markdown",
   "id": "d1d49baf",
   "metadata": {},
   "source": [
    "Accuracy of plane : 60 %  \n",
    "Accuracy of   car : 64 %  \n",
    "Accuracy of  bird : 56 %  \n",
    "Accuracy of   cat : 31 %  \n",
    "Accuracy of  deer : 42 %  \n",
    "Accuracy of   dog : 39 %  \n",
    "Accuracy of  frog : 58 %  \n",
    "Accuracy of horse : 63 %  \n",
    "Accuracy of  ship : 72 %  \n",
    "Accuracy of truck : 60 %  \n",
    "和只训练2个epoch相比 准确率平均有2个百分点的提升"
   ]
  },
  {
   "cell_type": "code",
   "execution_count": 205,
   "id": "90364bfb",
   "metadata": {},
   "outputs": [],
   "source": [
    "PATH = './cifar_net.pth'\n",
    "torch.save(net.state_dict(), PATH)\n",
    "#net = Net()\n",
    "#net.load_state_dict(torch.load(PATH))"
   ]
  },
  {
   "cell_type": "code",
   "execution_count": null,
   "id": "3f1f8026",
   "metadata": {},
   "outputs": [],
   "source": []
  }
 ],
 "metadata": {
  "kernelspec": {
   "display_name": "Python [conda env:pytorchGpu] *",
   "language": "python",
   "name": "conda-env-pytorchGpu-py"
  },
  "language_info": {
   "codemirror_mode": {
    "name": "ipython",
    "version": 3
   },
   "file_extension": ".py",
   "mimetype": "text/x-python",
   "name": "python",
   "nbconvert_exporter": "python",
   "pygments_lexer": "ipython3",
   "version": "3.8.13"
  }
 },
 "nbformat": 4,
 "nbformat_minor": 5
}
